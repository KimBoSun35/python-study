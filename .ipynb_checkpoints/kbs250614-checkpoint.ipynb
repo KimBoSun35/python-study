{
 "cells": [
  {
   "cell_type": "code",
   "execution_count": 1,
   "id": "7f36af8a-e89c-4764-8375-9405d836400b",
   "metadata": {},
   "outputs": [
    {
     "name": "stdout",
     "output_type": "stream",
     "text": [
      "Hello World\n"
     ]
    }
   ],
   "source": [
    "print(\"Hello World\")"
   ]
  },
  {
   "cell_type": "code",
   "execution_count": 2,
   "id": "a4227422-2388-499c-a7cd-4dbe7c3714b8",
   "metadata": {},
   "outputs": [
    {
     "name": "stdout",
     "output_type": "stream",
     "text": [
      "안녕하세요\n"
     ]
    }
   ],
   "source": [
    "print(\"안녕하세요\")"
   ]
  },
  {
   "cell_type": "code",
   "execution_count": 4,
   "id": "cd0d150a-4776-4130-ab7b-5008d2769c7e",
   "metadata": {},
   "outputs": [
    {
     "name": "stdout",
     "output_type": "stream",
     "text": [
      "파이썬\n"
     ]
    }
   ],
   "source": [
    "#파이썬 출력해줘\n",
    "print(\"파이썬\")"
   ]
  },
  {
   "cell_type": "code",
   "execution_count": 11,
   "id": "a1a7aba1-6649-47b9-9a02-ce94cb7a6de6",
   "metadata": {},
   "outputs": [
    {
     "name": "stdout",
     "output_type": "stream",
     "text": [
      "apple\n"
     ]
    }
   ],
   "source": [
    "#변수\n",
    "a=\"apple\"\n",
    "print(a)"
   ]
  },
  {
   "cell_type": "code",
   "execution_count": 13,
   "id": "188e1226-7471-456f-b034-be92ce993ddf",
   "metadata": {},
   "outputs": [
    {
     "name": "stdout",
     "output_type": "stream",
     "text": [
      "banana\n"
     ]
    }
   ],
   "source": [
    "a=\"banana\"\n",
    "print(a)"
   ]
  },
  {
   "cell_type": "code",
   "execution_count": 17,
   "id": "9933613f-4d7f-4813-bc66-7eab5091cf5d",
   "metadata": {},
   "outputs": [],
   "source": [
    "a=1"
   ]
  },
  {
   "cell_type": "code",
   "execution_count": 18,
   "id": "06de5671-8ce7-4a05-b5a5-6479a7b9f535",
   "metadata": {},
   "outputs": [
    {
     "data": {
      "text/plain": [
       "1"
      ]
     },
     "execution_count": 18,
     "metadata": {},
     "output_type": "execute_result"
    }
   ],
   "source": [
    "a"
   ]
  },
  {
   "cell_type": "code",
   "execution_count": 19,
   "id": "7afe86a9-955f-4037-9d76-64ade501d434",
   "metadata": {},
   "outputs": [
    {
     "data": {
      "text/plain": [
       "int"
      ]
     },
     "execution_count": 19,
     "metadata": {},
     "output_type": "execute_result"
    }
   ],
   "source": [
    "type(1)"
   ]
  },
  {
   "cell_type": "code",
   "execution_count": 20,
   "id": "832f9e25-a260-4021-8224-f6c9fe122e41",
   "metadata": {},
   "outputs": [
    {
     "data": {
      "text/plain": [
       "str"
      ]
     },
     "execution_count": 20,
     "metadata": {},
     "output_type": "execute_result"
    }
   ],
   "source": [
    "type(\"1\")"
   ]
  },
  {
   "cell_type": "code",
   "execution_count": 21,
   "id": "2bdc4e9b-cf3b-417f-9c7c-48460a60eea6",
   "metadata": {},
   "outputs": [
    {
     "data": {
      "text/plain": [
       "bool"
      ]
     },
     "execution_count": 21,
     "metadata": {},
     "output_type": "execute_result"
    }
   ],
   "source": [
    "type(False)"
   ]
  },
  {
   "cell_type": "code",
   "execution_count": 22,
   "id": "976d5235-e590-4894-b0d1-663747c149c1",
   "metadata": {},
   "outputs": [
    {
     "data": {
      "text/plain": [
       "NoneType"
      ]
     },
     "execution_count": 22,
     "metadata": {},
     "output_type": "execute_result"
    }
   ],
   "source": [
    "type(None)"
   ]
  },
  {
   "cell_type": "code",
   "execution_count": 23,
   "id": "80a2f4d5-82da-4174-828d-871140a87a2d",
   "metadata": {},
   "outputs": [],
   "source": [
    "a=1"
   ]
  },
  {
   "cell_type": "code",
   "execution_count": 24,
   "id": "db710e3a-3005-4c67-bf9d-98b4f24df891",
   "metadata": {},
   "outputs": [
    {
     "data": {
      "text/plain": [
       "int"
      ]
     },
     "execution_count": 24,
     "metadata": {},
     "output_type": "execute_result"
    }
   ],
   "source": [
    "type(a)"
   ]
  },
  {
   "cell_type": "code",
   "execution_count": 26,
   "id": "e6a54e68-711b-4640-bfb3-a48dd3978f31",
   "metadata": {},
   "outputs": [],
   "source": [
    "a=str(1)"
   ]
  },
  {
   "cell_type": "code",
   "execution_count": 27,
   "id": "64e82ad7-40cb-4c45-81fc-8886e0bb0a98",
   "metadata": {},
   "outputs": [
    {
     "data": {
      "text/plain": [
       "str"
      ]
     },
     "execution_count": 27,
     "metadata": {},
     "output_type": "execute_result"
    }
   ],
   "source": [
    "type(a)"
   ]
  },
  {
   "cell_type": "code",
   "execution_count": 29,
   "id": "1e85ef97-2a3f-4dd1-820b-9d818b4863dd",
   "metadata": {},
   "outputs": [
    {
     "data": {
      "text/plain": [
       "[1, 2, 3, 4, 5]"
      ]
     },
     "execution_count": 29,
     "metadata": {},
     "output_type": "execute_result"
    }
   ],
   "source": [
    "a=[1,2,3,4,5]\n",
    "a"
   ]
  },
  {
   "cell_type": "code",
   "execution_count": 30,
   "id": "3f629141-e7ce-4393-b74f-a6a290eea1b8",
   "metadata": {},
   "outputs": [
    {
     "data": {
      "text/plain": [
       "list"
      ]
     },
     "execution_count": 30,
     "metadata": {},
     "output_type": "execute_result"
    }
   ],
   "source": [
    "type(a)"
   ]
  },
  {
   "cell_type": "code",
   "execution_count": 32,
   "id": "5b916eec-b15c-47fa-92be-d3f2797d94e4",
   "metadata": {},
   "outputs": [
    {
     "data": {
      "text/plain": [
       "1"
      ]
     },
     "execution_count": 32,
     "metadata": {},
     "output_type": "execute_result"
    }
   ],
   "source": [
    "a[0]"
   ]
  },
  {
   "cell_type": "code",
   "execution_count": 33,
   "id": "786da1ff-7046-404e-b399-e1fb7123d785",
   "metadata": {},
   "outputs": [
    {
     "data": {
      "text/plain": [
       "4"
      ]
     },
     "execution_count": 33,
     "metadata": {},
     "output_type": "execute_result"
    }
   ],
   "source": [
    "a[3]"
   ]
  },
  {
   "cell_type": "code",
   "execution_count": 35,
   "id": "a9e7d292-73c1-4275-a091-0b565b16423e",
   "metadata": {},
   "outputs": [
    {
     "data": {
      "text/plain": [
       "[1, 2, 3, 6, 5]"
      ]
     },
     "execution_count": 35,
     "metadata": {},
     "output_type": "execute_result"
    }
   ],
   "source": [
    "a[3]=6\n",
    "a"
   ]
  },
  {
   "cell_type": "code",
   "execution_count": 36,
   "id": "ccb4764d-ff17-4e03-8bac-759600290c7e",
   "metadata": {},
   "outputs": [
    {
     "data": {
      "text/plain": [
       "[2, 3]"
      ]
     },
     "execution_count": 36,
     "metadata": {},
     "output_type": "execute_result"
    }
   ],
   "source": [
    "a[1:3]"
   ]
  },
  {
   "cell_type": "code",
   "execution_count": 37,
   "id": "cc6cde2c-2532-4ea9-ae76-a5e176011194",
   "metadata": {},
   "outputs": [
    {
     "data": {
      "text/plain": [
       "2"
      ]
     },
     "execution_count": 37,
     "metadata": {},
     "output_type": "execute_result"
    }
   ],
   "source": [
    "a=(1,2,3,4,5)\n",
    "a[1]"
   ]
  },
  {
   "cell_type": "code",
   "execution_count": 38,
   "id": "01882a9c-c589-4cac-89d9-24a1cfcf30a1",
   "metadata": {},
   "outputs": [
    {
     "data": {
      "text/plain": [
       "{1, 2, 3, 4, 5}"
      ]
     },
     "execution_count": 38,
     "metadata": {},
     "output_type": "execute_result"
    }
   ],
   "source": [
    "a={1,2,3,4,5}\n",
    "a"
   ]
  },
  {
   "cell_type": "code",
   "execution_count": 40,
   "id": "debc143c-a6f7-444f-99b1-25d16e11dde6",
   "metadata": {},
   "outputs": [
    {
     "ename": "TypeError",
     "evalue": "'set' object is not subscriptable",
     "output_type": "error",
     "traceback": [
      "\u001b[1;31m---------------------------------------------------------------------------\u001b[0m",
      "\u001b[1;31mTypeError\u001b[0m                                 Traceback (most recent call last)",
      "Cell \u001b[1;32mIn[40], line 1\u001b[0m\n\u001b[1;32m----> 1\u001b[0m a[\u001b[38;5;241m1\u001b[39m]\n",
      "\u001b[1;31mTypeError\u001b[0m: 'set' object is not subscriptable"
     ]
    }
   ],
   "source": [
    "a[1]"
   ]
  },
  {
   "cell_type": "code",
   "execution_count": 42,
   "id": "bf7e36d3-ad98-4ae2-8109-73790778e10e",
   "metadata": {},
   "outputs": [
    {
     "name": "stdout",
     "output_type": "stream",
     "text": [
      "a는 양수입니다.\n"
     ]
    }
   ],
   "source": [
    "a=1\n",
    "if a>0:#조건문(True)\n",
    "    print(\"a는 양수입니다.\")"
   ]
  },
  {
   "cell_type": "code",
   "execution_count": 44,
   "id": "e7acefd1-b12b-471a-9f44-5e07d4c083d8",
   "metadata": {},
   "outputs": [
    {
     "data": {
      "text/plain": [
       "True"
      ]
     },
     "execution_count": 44,
     "metadata": {},
     "output_type": "execute_result"
    }
   ],
   "source": [
    "a>0"
   ]
  },
  {
   "cell_type": "code",
   "execution_count": 55,
   "id": "dbe9f49f-979d-46de-afd4-d7b8fc3379ab",
   "metadata": {},
   "outputs": [
    {
     "name": "stdout",
     "output_type": "stream",
     "text": [
      "a는 1\n"
     ]
    }
   ],
   "source": [
    "a=1\n",
    "if a is int(1):\n",
    "    print(\"a는 1\")"
   ]
  },
  {
   "cell_type": "code",
   "execution_count": 56,
   "id": "ab9d81d1-ba37-4168-b7e0-2f80fa9a2ebc",
   "metadata": {},
   "outputs": [
    {
     "name": "stdout",
     "output_type": "stream",
     "text": [
      "a는 1\n"
     ]
    }
   ],
   "source": [
    "a=1\n",
    "if a==1:\n",
    "    print(\"a는 1\")"
   ]
  },
  {
   "cell_type": "code",
   "execution_count": 57,
   "id": "0f56d690-020c-4af6-a182-e762bc222e71",
   "metadata": {},
   "outputs": [],
   "source": [
    "a=1\n",
    "if a is not int(1):\n",
    "    print(\"a는 1이 아니다\")"
   ]
  },
  {
   "cell_type": "code",
   "execution_count": 69,
   "id": "d3e5169e-b533-4934-9b5a-152f163a9442",
   "metadata": {},
   "outputs": [
    {
     "data": {
      "text/plain": [
       "10"
      ]
     },
     "execution_count": 69,
     "metadata": {},
     "output_type": "execute_result"
    }
   ],
   "source": [
    "a=10\n",
    "b=20\n",
    "l=[10,30,50]\n",
    "a"
   ]
  },
  {
   "cell_type": "code",
   "execution_count": 70,
   "id": "02fbf85a-30e3-474f-9a30-34655fa7a71e",
   "metadata": {},
   "outputs": [
    {
     "name": "stdout",
     "output_type": "stream",
     "text": [
      "a는 10입니다\n"
     ]
    }
   ],
   "source": [
    "if a==10:\n",
    "    print(\"a는 10입니다\")"
   ]
  },
  {
   "cell_type": "code",
   "execution_count": 71,
   "id": "eb86d91d-cd22-4661-83fc-8fc084cac7db",
   "metadata": {},
   "outputs": [
    {
     "name": "stdout",
     "output_type": "stream",
     "text": [
      "a는 b보다 작습니다\n"
     ]
    }
   ],
   "source": [
    "if a>b:\n",
    "    print(\"a는 b보다 큽니다\")\n",
    "if a<b:\n",
    "    print(\"a는 b보다 작습니다\")"
   ]
  },
  {
   "cell_type": "code",
   "execution_count": 72,
   "id": "902e77be-a8a7-4968-ae54-5fe69fa76cc0",
   "metadata": {},
   "outputs": [
    {
     "name": "stdout",
     "output_type": "stream",
     "text": [
      "a는 1 안에 포함된다.\n"
     ]
    }
   ],
   "source": [
    "if a in l:\n",
    "    print(\"a는 1 안에 포함된다.\")"
   ]
  },
  {
   "cell_type": "code",
   "execution_count": 75,
   "id": "257c5963-6b0a-4d28-abca-a71ccaa09714",
   "metadata": {},
   "outputs": [
    {
     "name": "stdout",
     "output_type": "stream",
     "text": [
      "True\n"
     ]
    }
   ],
   "source": [
    "if 100000:\n",
    "    print(\"True\")"
   ]
  },
  {
   "cell_type": "code",
   "execution_count": 80,
   "id": "9418670d-bf3b-4ee6-95c8-99683a7b7746",
   "metadata": {},
   "outputs": [
    {
     "name": "stdout",
     "output_type": "stream",
     "text": [
      "a는 10이고 b는 20이다\n"
     ]
    }
   ],
   "source": [
    "if a==10 and b==20:\n",
    "    print(\"a는 10이고 b는 20이다\")"
   ]
  },
  {
   "cell_type": "code",
   "execution_count": 81,
   "id": "1df53727-0620-4691-8df8-8bf319a09812",
   "metadata": {},
   "outputs": [
    {
     "name": "stdout",
     "output_type": "stream",
     "text": [
      "a는 10이고 b는 15이다\n"
     ]
    }
   ],
   "source": [
    "if a==10 or b==15:\n",
    "    print(\"a는 10이고 b는 15이다\")"
   ]
  },
  {
   "cell_type": "code",
   "execution_count": 82,
   "id": "d484088c-c95b-4917-9505-608455a1a4d0",
   "metadata": {},
   "outputs": [
    {
     "name": "stdout",
     "output_type": "stream",
     "text": [
      "a는 양수\n"
     ]
    }
   ],
   "source": [
    "a=10\n",
    "\n",
    "#a가 음수인지, 양수인지, 0인지 확인하세요.\n",
    "if a<0:\n",
    "    print(\"a는 음수\")\n",
    "if a>0:\n",
    "    print(\"a는 양수\")\n",
    "if a==0:\n",
    "    print(\"a는 0\")"
   ]
  },
  {
   "cell_type": "code",
   "execution_count": 86,
   "id": "16dec126-7e69-4047-b671-e5988659f494",
   "metadata": {},
   "outputs": [
    {
     "name": "stdout",
     "output_type": "stream",
     "text": [
      "a는 0\n"
     ]
    }
   ],
   "source": [
    "a=0\n",
    "if a<0:\n",
    "    print(\"a는 음수\")\n",
    "elif a>0:\n",
    "    print(\"a는 양수\")\n",
    "else:\n",
    "    print(\"a는 0\")"
   ]
  },
  {
   "cell_type": "code",
   "execution_count": 92,
   "id": "1a92c1be-6421-4919-ae7e-2b5f703337e4",
   "metadata": {},
   "outputs": [
    {
     "name": "stdout",
     "output_type": "stream",
     "text": [
      "a는 0입니다\n"
     ]
    }
   ],
   "source": [
    "a=0\n",
    "if a==0:\n",
    "    print(\"a는 0입니다\")\n",
    "else:\n",
    "    print(\"a는 0이 아니다.\")"
   ]
  },
  {
   "cell_type": "code",
   "execution_count": 124,
   "id": "51f9d522-89eb-4fa9-8042-120480586540",
   "metadata": {},
   "outputs": [
    {
     "name": "stderr",
     "output_type": "stream",
     "text": [
      "IOPub data rate exceeded.\n",
      "The Jupyter server will temporarily stop sending output\n",
      "to the client in order to avoid crashing it.\n",
      "To change this limit, set the config variable\n",
      "`--ServerApp.iopub_data_rate_limit`.\n",
      "\n",
      "Current values:\n",
      "ServerApp.iopub_data_rate_limit=1000000.0 (bytes/sec)\n",
      "ServerApp.rate_limit_window=3.0 (secs)\n",
      "\n"
     ]
    },
    {
     "ename": "KeyboardInterrupt",
     "evalue": "",
     "output_type": "error",
     "traceback": [
      "\u001b[1;31m---------------------------------------------------------------------------\u001b[0m",
      "\u001b[1;31mKeyboardInterrupt\u001b[0m                         Traceback (most recent call last)",
      "Cell \u001b[1;32mIn[124], line 1\u001b[0m\n\u001b[1;32m----> 1\u001b[0m \u001b[38;5;28;01mwhile\u001b[39;00m \u001b[38;5;28;01mTrue\u001b[39;00m:\n\u001b[0;32m      2\u001b[0m     \u001b[38;5;28mprint\u001b[39m(\u001b[38;5;124m\"\u001b[39m\u001b[38;5;124m반복하자!\u001b[39m\u001b[38;5;124m\"\u001b[39m\u001b[38;5;241m*\u001b[39m\u001b[38;5;241m10\u001b[39m)\n",
      "\u001b[1;31mKeyboardInterrupt\u001b[0m: "
     ]
    }
   ],
   "source": [
    "while True:\n",
    "    print(\"반복하자!\"*10)\n",
    "    "
   ]
  },
  {
   "cell_type": "code",
   "execution_count": 95,
   "id": "9649ba96-9b92-4ef3-a12b-ef4f78c0cc32",
   "metadata": {},
   "outputs": [
    {
     "name": "stdout",
     "output_type": "stream",
     "text": [
      "0\n",
      "1\n",
      "2\n",
      "3\n",
      "4\n",
      "5\n",
      "6\n",
      "7\n",
      "8\n",
      "9\n"
     ]
    }
   ],
   "source": [
    "\n",
    "count=0\n",
    "while count<10:\n",
    "    print(count)\n",
    "    count+=1\n"
   ]
  },
  {
   "cell_type": "code",
   "execution_count": 107,
   "id": "633fe391-cd60-4640-95ae-9916c71562e3",
   "metadata": {},
   "outputs": [
    {
     "name": "stdout",
     "output_type": "stream",
     "text": [
      "0\n",
      "1\n",
      "2\n",
      "3\n",
      "4\n",
      "5\n",
      "6\n",
      "7\n",
      "8\n",
      "9\n",
      "1\n",
      "2\n",
      "3\n",
      "4\n",
      "5\n",
      "짱구\n",
      "철수\n",
      "유리\n",
      "맹구\n",
      "훈이\n"
     ]
    }
   ],
   "source": [
    "for i in range(0,10):\n",
    "    print(i)\n",
    "for i in[1,2,3,4,5]:\n",
    "    print(i)\n",
    "for name in[\"짱구\", \"철수\", \"유리\", \"맹구\", \"훈이\"]:\n",
    "    print(name)"
   ]
  },
  {
   "cell_type": "code",
   "execution_count": 101,
   "id": "e30e6270-c4ea-423c-9288-3983597d9597",
   "metadata": {},
   "outputs": [
    {
     "data": {
      "text/plain": [
       "[0, 1, 2, 3, 4]"
      ]
     },
     "execution_count": 101,
     "metadata": {},
     "output_type": "execute_result"
    }
   ],
   "source": [
    "list(range(5))"
   ]
  },
  {
   "cell_type": "code",
   "execution_count": 103,
   "id": "8e7d1a8e-f7ed-4070-b195-9dbe761aa57c",
   "metadata": {},
   "outputs": [
    {
     "data": {
      "text/plain": [
       "[0, 1, 2]"
      ]
     },
     "execution_count": 103,
     "metadata": {},
     "output_type": "execute_result"
    }
   ],
   "source": [
    "list(range(0,3))"
   ]
  },
  {
   "cell_type": "code",
   "execution_count": 104,
   "id": "f9c17a08-d8c4-4c07-b758-749f9434470d",
   "metadata": {},
   "outputs": [
    {
     "data": {
      "text/plain": [
       "[0, 2, 4, 6, 8]"
      ]
     },
     "execution_count": 104,
     "metadata": {},
     "output_type": "execute_result"
    }
   ],
   "source": [
    "list(range(0,10,2)) # 0,2,4,6,8"
   ]
  },
  {
   "cell_type": "code",
   "execution_count": 108,
   "id": "d50fc6a5-a16f-4222-8320-c6f038679302",
   "metadata": {},
   "outputs": [
    {
     "name": "stdout",
     "output_type": "stream",
     "text": [
      "짱구\n",
      "유리\n",
      "맹구\n",
      "훈이\n"
     ]
    }
   ],
   "source": [
    "for name in[\"짱구\", \"철수\", \"유리\", \"맹구\", \"훈이\"]:\n",
    "    if name==\"철수\":\n",
    "        continue\n",
    "    print(name)"
   ]
  },
  {
   "cell_type": "code",
   "execution_count": 115,
   "id": "d90c29b5-1629-4854-a997-ff522b157d2a",
   "metadata": {},
   "outputs": [
    {
     "name": "stdout",
     "output_type": "stream",
     "text": [
      "0\n",
      "1\n",
      "2\n",
      "3\n",
      "4\n",
      "5\n"
     ]
    }
   ],
   "source": [
    "for i in range(0,10):\n",
    "    if i>5:\n",
    "        continue\n",
    "    print(i)"
   ]
  },
  {
   "cell_type": "code",
   "execution_count": 118,
   "id": "36b81e55-dfd1-42eb-bef0-d4ddedd54d97",
   "metadata": {},
   "outputs": [
    {
     "name": "stdout",
     "output_type": "stream",
     "text": [
      "0\n",
      "1\n",
      "2\n",
      "3\n",
      "4\n"
     ]
    }
   ],
   "source": [
    "for i in range(0,10):\n",
    "    if i==5:\n",
    "        break\n",
    "    print(i)"
   ]
  },
  {
   "cell_type": "code",
   "execution_count": 123,
   "id": "370288b0-7b77-4723-b45f-f3114a2bccf9",
   "metadata": {},
   "outputs": [
    {
     "name": "stdout",
     "output_type": "stream",
     "text": [
      "i :  0\n",
      "j :  0\n",
      "j :  1\n",
      "j :  2\n",
      "j :  3\n",
      "j :  4\n",
      "i :  1\n",
      "j :  0\n",
      "j :  1\n",
      "j :  2\n",
      "j :  3\n",
      "j :  4\n",
      "i :  2\n",
      "j :  0\n",
      "j :  1\n",
      "j :  2\n",
      "j :  3\n",
      "j :  4\n"
     ]
    }
   ],
   "source": [
    "for i in range(0,3):#0 1 2 \n",
    "    print(\"i : \" ,i)\n",
    "    for j in range(0,5):#0 1 2 3 4 \n",
    "        print(\"j : \",j)"
   ]
  },
  {
   "cell_type": "code",
   "execution_count": 125,
   "id": "5705d00e-96ad-444f-bab6-a18dbcad6e56",
   "metadata": {},
   "outputs": [
    {
     "name": "stdin",
     "output_type": "stream",
     "text": [
      " 김보선\n"
     ]
    },
    {
     "data": {
      "text/plain": [
       "'김보선'"
      ]
     },
     "execution_count": 125,
     "metadata": {},
     "output_type": "execute_result"
    }
   ],
   "source": [
    "input()"
   ]
  },
  {
   "cell_type": "code",
   "execution_count": 126,
   "id": "6ed81cf5-5227-411f-b85d-8153510a9931",
   "metadata": {},
   "outputs": [
    {
     "name": "stdin",
     "output_type": "stream",
     "text": [
      " 김보선\n"
     ]
    },
    {
     "ename": "NameError",
     "evalue": "name '김보선' is not defined",
     "output_type": "error",
     "traceback": [
      "\u001b[1;31m---------------------------------------------------------------------------\u001b[0m",
      "\u001b[1;31mNameError\u001b[0m                                 Traceback (most recent call last)",
      "Cell \u001b[1;32mIn[126], line 2\u001b[0m\n\u001b[0;32m      1\u001b[0m name\u001b[38;5;241m=\u001b[39m\u001b[38;5;28minput\u001b[39m()\n\u001b[1;32m----> 2\u001b[0m 김보선\n",
      "\u001b[1;31mNameError\u001b[0m: name '김보선' is not defined"
     ]
    }
   ],
   "source": [
    "name=input()"
   ]
  },
  {
   "cell_type": "code",
   "execution_count": 127,
   "id": "b5e1005a-5a47-4fd3-8a85-5a49609e56e4",
   "metadata": {},
   "outputs": [
    {
     "data": {
      "text/plain": [
       "'김보선'"
      ]
     },
     "execution_count": 127,
     "metadata": {},
     "output_type": "execute_result"
    }
   ],
   "source": [
    "name"
   ]
  },
  {
   "cell_type": "code",
   "execution_count": 133,
   "id": "afc3f8ed-9117-491c-81ab-9208074dcf8c",
   "metadata": {},
   "outputs": [
    {
     "name": "stdin",
     "output_type": "stream",
     "text": [
      "사과는 몇 개? 3\n"
     ]
    }
   ],
   "source": [
    "apple=input(\"사과는 몇 개?\")"
   ]
  },
  {
   "cell_type": "code",
   "execution_count": null,
   "id": "0b1d3488-3798-4f46-9ff4-6faf8141df2e",
   "metadata": {},
   "outputs": [],
   "source": []
  },
  {
   "cell_type": "code",
   "execution_count": 136,
   "id": "e70b0e72-fb0c-4bf1-96e2-04fe53b09861",
   "metadata": {},
   "outputs": [
    {
     "name": "stdin",
     "output_type": "stream",
     "text": [
      "바나나는 몇 개? 5\n"
     ]
    }
   ],
   "source": [
    "banana=input(\"바나나는 몇 개?\")"
   ]
  },
  {
   "cell_type": "code",
   "execution_count": 137,
   "id": "e82e877b-8f44-4d39-941a-813794d5e88e",
   "metadata": {},
   "outputs": [
    {
     "name": "stdout",
     "output_type": "stream",
     "text": [
      "과일은 총8개 입니다.\n"
     ]
    }
   ],
   "source": [
    "sum=int(apple)+int(banana)\n",
    "print(\"과일은 총\"+str(sum)+\"개 입니다.\")"
   ]
  },
  {
   "cell_type": "code",
   "execution_count": 143,
   "id": "7d2f132b-a87c-47f4-bd28-4c6d52afe54e",
   "metadata": {},
   "outputs": [
    {
     "name": "stdout",
     "output_type": "stream",
     "text": [
      "pen pineapple apple pen\n",
      "penpineappleapplepen\n",
      "pen pineapple apple pen\n",
      "penpineappleapplepen\n",
      "pen\n",
      "pineapple\n",
      "apple\n",
      "pen\n",
      "pen pineapple apple pen pen\tpineapple\tapple\n",
      "pen\n"
     ]
    }
   ],
   "source": [
    "print(\"pen pineapple apple pen\")\n",
    "print(\"pen\"\"pineapple\"\"apple\"\"pen\")\n",
    "print(\"pen\",\"pineapple\",\"apple\",\"pen\")\n",
    "print(\"pen\"+\"pineapple\"+\"apple\"+\"pen\")\n",
    "\n",
    "print(\"pen\")\n",
    "print(\"pineapple\")\n",
    "print(\"apple\")\n",
    "print(\"pen\")\n",
    "\n",
    "print(\"pen\", end=' ')\n",
    "print(\"pineapple\", end=' ')\n",
    "print(\"apple\", end=' ')\n",
    "print(\"pen\", end=' ')\n",
    "\n",
    "print(\"pen\", end='\\t')\n",
    "print(\"pineapple\", end='\\t')\n",
    "print(\"apple\", end='\\n')\n",
    "print(\"pen\", end='\\n')"
   ]
  },
  {
   "cell_type": "code",
   "execution_count": 8,
   "id": "fabe0728-a5f1-4556-82bc-13840732f1ce",
   "metadata": {},
   "outputs": [
    {
     "data": {
      "text/plain": [
       "2"
      ]
     },
     "execution_count": 8,
     "metadata": {},
     "output_type": "execute_result"
    }
   ],
   "source": [
    "def plus_one(a):\n",
    "    result = a + 1\n",
    "    \n",
    "    return result\n",
    "\n",
    "plus_one(1)"
   ]
  },
  {
   "cell_type": "code",
   "execution_count": 7,
   "id": "5afb5d68-0549-4fd5-9c63-1d0e4b82c2ff",
   "metadata": {},
   "outputs": [
    {
     "data": {
      "text/plain": [
       "3"
      ]
     },
     "execution_count": 7,
     "metadata": {},
     "output_type": "execute_result"
    }
   ],
   "source": [
    "plus_one(2)"
   ]
  },
  {
   "cell_type": "code",
   "execution_count": 2,
   "id": "032a7c5d-61b7-441b-be0b-d87f4b808a8a",
   "metadata": {},
   "outputs": [],
   "source": [
    "def shouting():\n",
    "    print(\"ah!!!!\")"
   ]
  },
  {
   "cell_type": "code",
   "execution_count": 9,
   "id": "657df2b1-bee2-4203-979d-92ec28d51e36",
   "metadata": {},
   "outputs": [
    {
     "name": "stdout",
     "output_type": "stream",
     "text": [
      "ah!!!!\n"
     ]
    }
   ],
   "source": [
    "shouting()"
   ]
  },
  {
   "cell_type": "code",
   "execution_count": 18,
   "id": "2dabb28d-1e7b-4ba9-a553-6d9b5677d807",
   "metadata": {},
   "outputs": [],
   "source": [
    "def count_fruit_1(fruit: str, number: int):\n",
    "    print(\"과일\",fruit+\"는\", number, \"개 입니다.\")"
   ]
  },
  {
   "cell_type": "code",
   "execution_count": 24,
   "id": "e9436c2f-bb57-41c1-8178-829b0dca654a",
   "metadata": {},
   "outputs": [
    {
     "name": "stdout",
     "output_type": "stream",
     "text": [
      "과일 오렌지는 여섯 개 입니다.\n"
     ]
    }
   ],
   "source": [
    "count_fruit_1(\"오렌지\",\"여섯\")"
   ]
  },
  {
   "cell_type": "code",
   "execution_count": 23,
   "id": "0ad2db5a-f93c-4f30-a3e9-f7a4fcf07c48",
   "metadata": {},
   "outputs": [],
   "source": [
    "def count_fruit_2(fruit= \"사과\", number=1):\n",
    "    print(\"과일\",fruit+\"는\", number, \"개 입니다.\")"
   ]
  },
  {
   "cell_type": "code",
   "execution_count": 25,
   "id": "6645f3a2-7955-4ea8-a388-b3f15d67cbc7",
   "metadata": {},
   "outputs": [
    {
     "name": "stdout",
     "output_type": "stream",
     "text": [
      "과일 사과는 1 개 입니다.\n"
     ]
    }
   ],
   "source": [
    "count_fruit_2()"
   ]
  },
  {
   "cell_type": "code",
   "execution_count": 26,
   "id": "7efa5b95-e68b-41f0-bf48-252342ed4209",
   "metadata": {},
   "outputs": [
    {
     "name": "stdout",
     "output_type": "stream",
     "text": [
      "과일 수박는 3 개 입니다.\n"
     ]
    }
   ],
   "source": [
    "count_fruit_2(\"수박\",3)"
   ]
  },
  {
   "cell_type": "code",
   "execution_count": 27,
   "id": "61ad55d8-20c7-4cda-9a99-469114705556",
   "metadata": {},
   "outputs": [],
   "source": [
    "def count_fruit_3(fruit:str= \"사과\", number:int=1):\n",
    "    print(\"과일\",fruit+\"는\", number, \"개 입니다.\")"
   ]
  },
  {
   "cell_type": "code",
   "execution_count": 28,
   "id": "c5a5700f-6451-4f1d-8e70-746b7f84e56c",
   "metadata": {},
   "outputs": [
    {
     "name": "stdout",
     "output_type": "stream",
     "text": [
      "과일 사과는 1 개 입니다.\n"
     ]
    }
   ],
   "source": [
    "count_fruit_3()"
   ]
  },
  {
   "cell_type": "code",
   "execution_count": 29,
   "id": "2b751522-7d42-402c-b653-0ca2f1617fbc",
   "metadata": {},
   "outputs": [
    {
     "name": "stdout",
     "output_type": "stream",
     "text": [
      "Hello world\n",
      "Hello world\n"
     ]
    }
   ],
   "source": [
    "print(\"Hello world\")\n",
    "print(\"Hello world\")"
   ]
  },
  {
   "cell_type": "code",
   "execution_count": 32,
   "id": "5737a214-64e1-441e-9f89-cd742bfc7f82",
   "metadata": {},
   "outputs": [
    {
     "name": "stdout",
     "output_type": "stream",
     "text": [
      "Hello world\n",
      "Hello world\n"
     ]
    }
   ],
   "source": [
    "print(\"Hello world\", end='\\n')\n",
    "print(\"Hello world\")"
   ]
  },
  {
   "cell_type": "code",
   "execution_count": 33,
   "id": "3b62900a-043f-46a2-8366-6d6a11f8cd84",
   "metadata": {},
   "outputs": [
    {
     "name": "stdout",
     "output_type": "stream",
     "text": [
      "Hello world\tHello world\n"
     ]
    }
   ],
   "source": [
    "print(\"Hello world\", end='\\t')\n",
    "print(\"Hello world\")"
   ]
  },
  {
   "cell_type": "code",
   "execution_count": 34,
   "id": "73efb1c5-3c72-4dd9-b266-d76419a5edd9",
   "metadata": {},
   "outputs": [],
   "source": [
    "def summation(a,b):\n",
    "    return a+b"
   ]
  },
  {
   "cell_type": "code",
   "execution_count": 35,
   "id": "36b7289b-73f4-44ee-ba21-323f44bf24ac",
   "metadata": {},
   "outputs": [
    {
     "data": {
      "text/plain": [
       "3"
      ]
     },
     "execution_count": 35,
     "metadata": {},
     "output_type": "execute_result"
    }
   ],
   "source": [
    "summation(1,2)"
   ]
  },
  {
   "cell_type": "code",
   "execution_count": 36,
   "id": "7d015aae-6652-4aed-8a75-1660baca4863",
   "metadata": {},
   "outputs": [],
   "source": [
    "def summation(a,b):\n",
    "    c=a+b\n",
    "    return c"
   ]
  },
  {
   "cell_type": "code",
   "execution_count": 37,
   "id": "0344e55e-4941-4559-9368-9169d9fbc90e",
   "metadata": {},
   "outputs": [
    {
     "data": {
      "text/plain": [
       "3"
      ]
     },
     "execution_count": 37,
     "metadata": {},
     "output_type": "execute_result"
    }
   ],
   "source": [
    "summation(1,2)"
   ]
  },
  {
   "cell_type": "code",
   "execution_count": 46,
   "id": "cfcee673-3c9d-40f2-95a6-634dcc6893c7",
   "metadata": {},
   "outputs": [
    {
     "name": "stdout",
     "output_type": "stream",
     "text": [
      "3\n"
     ]
    }
   ],
   "source": [
    "a=1 \n",
    "b=2\n",
    "c=a+b\n",
    "print(c)"
   ]
  },
  {
   "cell_type": "code",
   "execution_count": 42,
   "id": "e3144100-0717-43f1-a5f1-2a296f514358",
   "metadata": {},
   "outputs": [
    {
     "name": "stdout",
     "output_type": "stream",
     "text": [
      "1\n"
     ]
    }
   ],
   "source": [
    "a=1\n",
    "print(a)"
   ]
  },
  {
   "cell_type": "code",
   "execution_count": 53,
   "id": "d87aba7b-c601-405e-8a87-9569eb3deced",
   "metadata": {},
   "outputs": [
    {
     "data": {
      "text/plain": [
       "8"
      ]
     },
     "execution_count": 53,
     "metadata": {},
     "output_type": "execute_result"
    }
   ],
   "source": [
    "a=2\n",
    "\n",
    "def function_1(b):\n",
    " c=a*b\n",
    " return c\n",
    "\n",
    "function_1(4)"
   ]
  },
  {
   "cell_type": "code",
   "execution_count": 51,
   "id": "88f9954c-779c-4166-a9a3-00f8260f0dad",
   "metadata": {},
   "outputs": [
    {
     "data": {
      "text/plain": [
       "8"
      ]
     },
     "execution_count": 51,
     "metadata": {},
     "output_type": "execute_result"
    }
   ],
   "source": [
    "function_1(4)"
   ]
  },
  {
   "cell_type": "code",
   "execution_count": 56,
   "id": "b01bd8ee-bb94-4186-91be-296a460a66c6",
   "metadata": {},
   "outputs": [
    {
     "name": "stdout",
     "output_type": "stream",
     "text": [
      "소주한 병 주문이요\n",
      "맥주한 병 주문이요\n"
     ]
    }
   ],
   "source": [
    "def function_2(a = \"소주\"):\n",
    "    print(a + \"한 병 주문이요\") \n",
    "\n",
    "function_2()\n",
    "function_2(\"맥주\")\n"
   ]
  },
  {
   "cell_type": "code",
   "execution_count": 57,
   "id": "71de45e1-df8b-49bb-89d6-4621e7566082",
   "metadata": {},
   "outputs": [
    {
     "name": "stdout",
     "output_type": "stream",
     "text": [
      "3\n",
      "5\n"
     ]
    }
   ],
   "source": [
    "def function_3(a: int = 1, b: int = 2):\n",
    "    print(a + b)\n",
    "\n",
    "function_3()\n",
    "function_3(2,3)"
   ]
  },
  {
   "cell_type": "code",
   "execution_count": 58,
   "id": "a2dd66bc-6f4c-401f-a75f-0c735478c148",
   "metadata": {
    "scrolled": true
   },
   "outputs": [
    {
     "name": "stdout",
     "output_type": "stream",
     "text": [
      "3\n"
     ]
    }
   ],
   "source": [
    "def function_4(a,b):\n",
    "    c = a + b\n",
    "    return c\n",
    "\n",
    "print(function_4(1,2))"
   ]
  },
  {
   "cell_type": "code",
   "execution_count": 61,
   "id": "a45d2d22-8509-438d-8706-45d61dc01d9e",
   "metadata": {},
   "outputs": [
    {
     "name": "stdout",
     "output_type": "stream",
     "text": [
      "6\n"
     ]
    }
   ],
   "source": [
    "a = 1\n",
    "def function_5(b):\n",
    "    c = a + b # 변수 a는 함수 외부에서 정의한 변수로 내부에서도 사용이 가능하다.\n",
    "    return c\n",
    "\n",
    "print(function_5(5))"
   ]
  },
  {
   "cell_type": "code",
   "execution_count": 63,
   "id": "0741a80c-3f34-45cc-826a-76fda9c607b2",
   "metadata": {},
   "outputs": [
    {
     "name": "stdout",
     "output_type": "stream",
     "text": [
      "10\n"
     ]
    }
   ],
   "source": [
    "a = 10\n",
    "def function_6():\n",
    "    a = 2\n",
    "    print(a)\n",
    "print(a)"
   ]
  },
  {
   "cell_type": "code",
   "execution_count": 64,
   "id": "f0b07035-2dd3-449c-ba6a-26d889c4b1f4",
   "metadata": {},
   "outputs": [
    {
     "name": "stdout",
     "output_type": "stream",
     "text": [
      "3\n",
      "6\n"
     ]
    }
   ],
   "source": [
    "def function_7(a,b):\n",
    "    return a + b\n",
    "\n",
    "print(function_7(1,2))\n",
    "\n",
    "def function_8(a,b):\n",
    "    c = function_7(a,b)\n",
    "    return c * 2\n",
    "\n",
    "print(function_8(1,2))"
   ]
  },
  {
   "cell_type": "code",
   "execution_count": 66,
   "id": "948a3f25-80c6-4e36-a390-85a3e3c576c6",
   "metadata": {},
   "outputs": [],
   "source": [
    "def function_9():\n",
    "    function_10()\n",
    "\n",
    "def function_10():\n",
    "    function_9()"
   ]
  }
 ],
 "metadata": {
  "kernelspec": {
   "display_name": "Python 3 (ipykernel)",
   "language": "python",
   "name": "python3"
  },
  "language_info": {
   "codemirror_mode": {
    "name": "ipython",
    "version": 3
   },
   "file_extension": ".py",
   "mimetype": "text/x-python",
   "name": "python",
   "nbconvert_exporter": "python",
   "pygments_lexer": "ipython3",
   "version": "3.12.7"
  }
 },
 "nbformat": 4,
 "nbformat_minor": 5
}

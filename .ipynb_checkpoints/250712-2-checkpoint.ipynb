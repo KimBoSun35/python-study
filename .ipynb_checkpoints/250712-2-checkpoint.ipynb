{
 "cells": [
  {
   "cell_type": "code",
   "execution_count": 6,
   "id": "595cffd6-c02a-493f-9f56-c64f41f7cf95",
   "metadata": {},
   "outputs": [],
   "source": [
    "array = [6,5,3,1,8,7,2,4]"
   ]
  },
  {
   "cell_type": "code",
   "execution_count": 7,
   "id": "57456358-d929-400d-8943-74f77328f170",
   "metadata": {},
   "outputs": [],
   "source": [
    "n=len(array)"
   ]
  },
  {
   "cell_type": "code",
   "execution_count": 8,
   "id": "5bf62944-6722-417a-a5c1-c28d5145ba4f",
   "metadata": {},
   "outputs": [
    {
     "name": "stdout",
     "output_type": "stream",
     "text": [
      "8\n"
     ]
    }
   ],
   "source": [
    "print(n)"
   ]
  },
  {
   "cell_type": "code",
   "execution_count": 15,
   "id": "073d22a1-b670-4f47-887d-3215a4b678b4",
   "metadata": {},
   "outputs": [
    {
     "name": "stdout",
     "output_type": "stream",
     "text": [
      "[5, 6, 4, 3, 2, 1, 7, 8]\n",
      "[5, 4, 6, 3, 2, 1, 7, 8]\n",
      "[5, 4, 3, 6, 2, 1, 7, 8]\n",
      "[5, 4, 3, 2, 6, 1, 7, 8]\n",
      "[5, 4, 3, 2, 1, 6, 7, 8]\n",
      "[5, 4, 3, 2, 1, 6, 7, 8]\n",
      "[5, 4, 3, 2, 1, 6, 7, 8]\n"
     ]
    }
   ],
   "source": [
    "for i in range(n-1):\n",
    "    #print(\"i:\\t \",array[i])\n",
    "    #print(\"i+1:\\t \",array[i+1])\n",
    "    if array[i] > array[i+1]:\n",
    "        tmp=array[i]\n",
    "        array[i]=array[i+1]\n",
    "        array[i+1]=tmp\n",
    "    print(array)"
   ]
  },
  {
   "cell_type": "code",
   "execution_count": null,
   "id": "1f32e0a3-ebdb-47f4-8af5-f14fcf4871e5",
   "metadata": {},
   "outputs": [],
   "source": [
    "for i in range(n-1):\n",
    "    for\n",
    "    #print(\"i:\\t \",array[i])\n",
    "    #print(\"i+1:\\t \",array[i+1])\n",
    "    if array[i] > array[i+1]:\n",
    "        tmp=array[i]\n",
    "        array[i]=array[i+1]\n",
    "        array[i+1]=tmp\n",
    "    print(array)"
   ]
  },
  {
   "cell_type": "code",
   "execution_count": 14,
   "id": "378c9d56-e1b4-49c9-87dc-ce56ede9c18d",
   "metadata": {},
   "outputs": [],
   "source": [
    "def bubble_sort(array):\n",
    "    n = len(array)\n",
    "    for i in range(n - 1):\n",
    "        for j in range(n - i - 1):\n",
    "            tmp = 0\n",
    "            if array[j] > array[j + 1]:\n",
    "                tmp = array[j]\n",
    "                array[j] = array[j + 1]\n",
    "                array[j + 1] = tmp\n",
    "        print(array)"
   ]
  },
  {
   "cell_type": "code",
   "execution_count": null,
   "id": "86000745-407c-4176-9c8c-8b658ed3c346",
   "metadata": {},
   "outputs": [],
   "source": []
  },
  {
   "cell_type": "code",
   "execution_count": null,
   "id": "203f2a0a-68e4-42e1-a6ca-c2c71de22549",
   "metadata": {},
   "outputs": [],
   "source": []
  }
 ],
 "metadata": {
  "kernelspec": {
   "display_name": "Python 3 (ipykernel)",
   "language": "python",
   "name": "python3"
  },
  "language_info": {
   "codemirror_mode": {
    "name": "ipython",
    "version": 3
   },
   "file_extension": ".py",
   "mimetype": "text/x-python",
   "name": "python",
   "nbconvert_exporter": "python",
   "pygments_lexer": "ipython3",
   "version": "3.12.7"
  }
 },
 "nbformat": 4,
 "nbformat_minor": 5
}

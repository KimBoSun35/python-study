{
 "cells": [
  {
   "cell_type": "code",
   "execution_count": 2,
   "id": "81e430bc-c459-4392-8b2e-5d59f27b8959",
   "metadata": {},
   "outputs": [
    {
     "name": "stdout",
     "output_type": "stream",
     "text": [
      "Requirement already satisfied: numpy in c:\\programdata\\anaconda3\\lib\\site-packages (1.26.4)\n",
      "Note: you may need to restart the kernel to use updated packages.\n"
     ]
    }
   ],
   "source": [
    "pip install numpy"
   ]
  },
  {
   "cell_type": "code",
   "execution_count": 4,
   "id": "9fe2ba49-5859-4ff5-a190-ca693de94152",
   "metadata": {},
   "outputs": [],
   "source": [
    "import numpy as np"
   ]
  },
  {
   "cell_type": "code",
   "execution_count": 5,
   "id": "77b02eca-f9b9-457d-bce7-07ef77e2130f",
   "metadata": {},
   "outputs": [],
   "source": [
    "# 1차원 배열\n",
    "a1 = np.array([1,2,3])\n",
    "\n",
    "# 2차원 배열\n",
    "a2 = np.array([[1,2,3],[4,5,6]])\n",
    "\n",
    "# 3차원 배열\n",
    "a3 = np.array([[[1,2],[3,4]],[[5,6],[7,8]]])"
   ]
  },
  {
   "cell_type": "code",
   "execution_count": 9,
   "id": "9e81cba8-0415-41d4-8366-99040c52399f",
   "metadata": {},
   "outputs": [
    {
     "data": {
      "text/plain": [
       "(2, 2, 2)"
      ]
     },
     "execution_count": 9,
     "metadata": {},
     "output_type": "execute_result"
    }
   ],
   "source": [
    "a1.shape\n",
    "a2.shape\n",
    "a3.shape "
   ]
  },
  {
   "cell_type": "code",
   "execution_count": 11,
   "id": "435cae99-376f-4f31-bbbd-5a164ab9dac2",
   "metadata": {},
   "outputs": [
    {
     "name": "stdout",
     "output_type": "stream",
     "text": [
      "[5 7 9]\n"
     ]
    }
   ],
   "source": [
    "a = np.array([1,2,3])\n",
    "b = np.array([4,5,6])\n",
    "print(a + b)   "
   ]
  },
  {
   "cell_type": "code",
   "execution_count": 12,
   "id": "fc01db36-a041-42be-b529-44894038c20f",
   "metadata": {},
   "outputs": [
    {
     "data": {
      "text/plain": [
       "array([ 4, 10, 18])"
      ]
     },
     "execution_count": 12,
     "metadata": {},
     "output_type": "execute_result"
    }
   ],
   "source": [
    "a*b"
   ]
  },
  {
   "cell_type": "code",
   "execution_count": 14,
   "id": "80c87730-67ee-419b-a6a4-2509335a38b1",
   "metadata": {},
   "outputs": [
    {
     "name": "stdout",
     "output_type": "stream",
     "text": [
      "[[2 4]\n",
      " [6 8]]\n",
      "[[ 1  4]\n",
      " [ 9 16]]\n"
     ]
    }
   ],
   "source": [
    "a = np.array([[1,2],[3,4]])\n",
    "b = np.array([[1,2],[3,4]])\n",
    "print(a + b)\n",
    "print(a * b) "
   ]
  },
  {
   "cell_type": "code",
   "execution_count": 17,
   "id": "07f15c59-57ad-428a-a375-0524825a2419",
   "metadata": {},
   "outputs": [
    {
     "data": {
      "text/plain": [
       "6"
      ]
     },
     "execution_count": 17,
     "metadata": {},
     "output_type": "execute_result"
    }
   ],
   "source": [
    "a = np.array([1,2,3])\n",
    "np.sum(a) "
   ]
  },
  {
   "cell_type": "code",
   "execution_count": 18,
   "id": "869bf61d-bbba-410a-a15c-8c1c36b5886a",
   "metadata": {},
   "outputs": [
    {
     "data": {
      "text/plain": [
       "1"
      ]
     },
     "execution_count": 18,
     "metadata": {},
     "output_type": "execute_result"
    }
   ],
   "source": [
    "np.min(a)"
   ]
  },
  {
   "cell_type": "code",
   "execution_count": 19,
   "id": "938ecbac-97c8-4afe-8dec-b55ac80281e4",
   "metadata": {},
   "outputs": [
    {
     "data": {
      "text/plain": [
       "3"
      ]
     },
     "execution_count": 19,
     "metadata": {},
     "output_type": "execute_result"
    }
   ],
   "source": [
    "np.max (a)"
   ]
  },
  {
   "cell_type": "code",
   "execution_count": 20,
   "id": "5a746306-caae-47b7-9eee-9c1c21cd61a4",
   "metadata": {},
   "outputs": [
    {
     "data": {
      "text/plain": [
       "2.0"
      ]
     },
     "execution_count": 20,
     "metadata": {},
     "output_type": "execute_result"
    }
   ],
   "source": [
    "np.mean(a)"
   ]
  },
  {
   "cell_type": "code",
   "execution_count": 111,
   "id": "80eca9e9-b1a8-486d-9bc8-1b4cfac0c64f",
   "metadata": {},
   "outputs": [
    {
     "ename": "TypeError",
     "evalue": "Field elements must be 2- or 3-tuples, got '4'",
     "output_type": "error",
     "traceback": [
      "\u001b[1;31m---------------------------------------------------------------------------\u001b[0m",
      "\u001b[1;31mTypeError\u001b[0m                                 Traceback (most recent call last)",
      "Cell \u001b[1;32mIn[111], line 1\u001b[0m\n\u001b[1;32m----> 1\u001b[0m a \u001b[38;5;241m=\u001b[39m np\u001b[38;5;241m.\u001b[39marray([\u001b[38;5;241m1\u001b[39m,\u001b[38;5;241m2\u001b[39m,\u001b[38;5;241m3\u001b[39m],[\u001b[38;5;241m4\u001b[39m,\u001b[38;5;241m5\u001b[39m,\u001b[38;5;241m6\u001b[39m])\n\u001b[0;32m      2\u001b[0m np\u001b[38;5;241m.\u001b[39msum(a)\n",
      "\u001b[1;31mTypeError\u001b[0m: Field elements must be 2- or 3-tuples, got '4'"
     ]
    }
   ],
   "source": [
    "a = np.array([1,2,3],[4,5,6])\n",
    "np.sum(a)"
   ]
  },
  {
   "cell_type": "code",
   "execution_count": 26,
   "id": "44068787-b52d-4e90-89b6-82deef055568",
   "metadata": {},
   "outputs": [
    {
     "data": {
      "text/plain": [
       "1"
      ]
     },
     "execution_count": 26,
     "metadata": {},
     "output_type": "execute_result"
    }
   ],
   "source": [
    "np.min(a)"
   ]
  },
  {
   "cell_type": "code",
   "execution_count": 27,
   "id": "bc3fae11-37fc-4c4a-b6e7-411e62e41afa",
   "metadata": {},
   "outputs": [
    {
     "data": {
      "text/plain": [
       "3"
      ]
     },
     "execution_count": 27,
     "metadata": {},
     "output_type": "execute_result"
    }
   ],
   "source": [
    "np.max(a)"
   ]
  },
  {
   "cell_type": "code",
   "execution_count": 28,
   "id": "c3179d8c-4991-40ce-b56d-1c10cb938f2b",
   "metadata": {},
   "outputs": [
    {
     "data": {
      "text/plain": [
       "2.0"
      ]
     },
     "execution_count": 28,
     "metadata": {},
     "output_type": "execute_result"
    }
   ],
   "source": [
    "np.mean(a)"
   ]
  },
  {
   "cell_type": "code",
   "execution_count": 29,
   "id": "1bdfad59-0061-4700-85dc-4f99714cb428",
   "metadata": {},
   "outputs": [
    {
     "ename": "NameError",
     "evalue": "name 'arr' is not defined",
     "output_type": "error",
     "traceback": [
      "\u001b[1;31m---------------------------------------------------------------------------\u001b[0m",
      "\u001b[1;31mNameError\u001b[0m                                 Traceback (most recent call last)",
      "Cell \u001b[1;32mIn[29], line 1\u001b[0m\n\u001b[1;32m----> 1\u001b[0m np\u001b[38;5;241m.\u001b[39mmean(arr, axis\u001b[38;5;241m=\u001b[39m\u001b[38;5;241m1\u001b[39m)\n",
      "\u001b[1;31mNameError\u001b[0m: name 'arr' is not defined"
     ]
    }
   ],
   "source": [
    "np.mean(arr, axis=1) # 행 별 평균"
   ]
  },
  {
   "cell_type": "code",
   "execution_count": 112,
   "id": "9c321776-9691-4412-abe5-c6b287b1ae02",
   "metadata": {},
   "outputs": [
    {
     "ename": "NameError",
     "evalue": "name 'arr' is not defined",
     "output_type": "error",
     "traceback": [
      "\u001b[1;31m---------------------------------------------------------------------------\u001b[0m",
      "\u001b[1;31mNameError\u001b[0m                                 Traceback (most recent call last)",
      "Cell \u001b[1;32mIn[112], line 1\u001b[0m\n\u001b[1;32m----> 1\u001b[0m np\u001b[38;5;241m.\u001b[39mmean(arr, axis\u001b[38;5;241m=\u001b[39m\u001b[38;5;241m0\u001b[39m)\n",
      "\u001b[1;31mNameError\u001b[0m: name 'arr' is not defined"
     ]
    }
   ],
   "source": [
    "np.mean(arr, axis=0) # 열 별 평균"
   ]
  },
  {
   "cell_type": "code",
   "execution_count": 114,
   "id": "3e37b2e0-b8ae-4a5d-b34e-f8944fd3469b",
   "metadata": {},
   "outputs": [
    {
     "data": {
      "text/plain": [
       "1"
      ]
     },
     "execution_count": 114,
     "metadata": {},
     "output_type": "execute_result"
    }
   ],
   "source": [
    "a = np.array([1, 2, 3, 4, 5])\n",
    "a[0] # list indexing과 동일"
   ]
  },
  {
   "cell_type": "code",
   "execution_count": 116,
   "id": "2d74976e-0b10-4126-a6a2-f87cfd79ac7f",
   "metadata": {},
   "outputs": [
    {
     "data": {
      "text/plain": [
       "3"
      ]
     },
     "execution_count": 116,
     "metadata": {},
     "output_type": "execute_result"
    }
   ],
   "source": [
    "a[2]"
   ]
  },
  {
   "cell_type": "code",
   "execution_count": 117,
   "id": "890477c4-fbba-46b5-9bf1-6a2c5923b3b6",
   "metadata": {},
   "outputs": [
    {
     "data": {
      "text/plain": [
       "array([2, 3, 4])"
      ]
     },
     "execution_count": 117,
     "metadata": {},
     "output_type": "execute_result"
    }
   ],
   "source": [
    "a[1:4]"
   ]
  },
  {
   "cell_type": "code",
   "execution_count": 118,
   "id": "59e9a19c-49e6-431b-98e1-7723d8605fb5",
   "metadata": {},
   "outputs": [
    {
     "data": {
      "text/plain": [
       "array([1, 2, 3])"
      ]
     },
     "execution_count": 118,
     "metadata": {},
     "output_type": "execute_result"
    }
   ],
   "source": [
    "a[:3] "
   ]
  },
  {
   "cell_type": "code",
   "execution_count": 119,
   "id": "f6430e22-384e-4679-9acd-e7f7263d8a11",
   "metadata": {},
   "outputs": [
    {
     "data": {
      "text/plain": [
       "array([4, 5])"
      ]
     },
     "execution_count": 119,
     "metadata": {},
     "output_type": "execute_result"
    }
   ],
   "source": [
    "a[3:] "
   ]
  },
  {
   "cell_type": "code",
   "execution_count": 120,
   "id": "14951458-e50f-45f4-83f6-c53125336209",
   "metadata": {},
   "outputs": [
    {
     "data": {
      "text/plain": [
       "array([[1, 3, 5],\n",
       "       [2, 4, 6]])"
      ]
     },
     "execution_count": 120,
     "metadata": {},
     "output_type": "execute_result"
    }
   ],
   "source": [
    "a = np.array([[1, 2], [3, 4], [5, 6]])\n",
    "a.reshape((2, 3))  # [[1, 2, 3], [4, 5, 6]]\n",
    "a.T  # 행렬의 전치 : [[1, 3, 5], [2, 4, 6]] "
   ]
  },
  {
   "cell_type": "code",
   "execution_count": 121,
   "id": "65e6522d-0261-4c17-9475-82de16c525be",
   "metadata": {},
   "outputs": [
    {
     "data": {
      "text/plain": [
       "array([1, 2, 3, 4, 5, 6])"
      ]
     },
     "execution_count": 121,
     "metadata": {},
     "output_type": "execute_result"
    }
   ],
   "source": [
    "a = np.array([1, 2, 3])\n",
    "b = np.array([4, 5, 6])\n",
    "np.concatenate((a, b))  # 단순 병합 : [1, 2, 3, 4, 5, 6]"
   ]
  },
  {
   "cell_type": "code",
   "execution_count": 122,
   "id": "4280166d-3268-4ac0-a4e3-593038de366b",
   "metadata": {},
   "outputs": [],
   "source": [
    "a = np.array([[1, 2], [3, 4]])\n",
    "b = np.array([[5, 6]])\n",
    "c = np.concatenate((a, b), axis=0)"
   ]
  },
  {
   "cell_type": "code",
   "execution_count": 123,
   "id": "f60093e3-43b1-4cb3-abbe-f383fc0e785b",
   "metadata": {},
   "outputs": [],
   "source": [
    "a = np.array([1, 2, 3, 4, 5, 6])\n",
    "b, c = np.split(a, [3])  # 배열 분리 : [1, 2, 3], [4, 5, 6]"
   ]
  },
  {
   "cell_type": "code",
   "execution_count": 124,
   "id": "4facc2fc-05b8-41d9-8dad-24c2c38e93c3",
   "metadata": {},
   "outputs": [],
   "source": [
    "a = np.array([[1, 2, 3], [4, 5, 6]])\n",
    "b, c = np.split(a, [1], axis=0)  # [[1, 2, 3]], [[4, 5, 6]]"
   ]
  },
  {
   "cell_type": "code",
   "execution_count": 127,
   "id": "f27bca14-de05-4de1-9399-77e9ab715922",
   "metadata": {},
   "outputs": [
    {
     "ename": "NameError",
     "evalue": "name 'pd' is not defined",
     "output_type": "error",
     "traceback": [
      "\u001b[1;31m---------------------------------------------------------------------------\u001b[0m",
      "\u001b[1;31mNameError\u001b[0m                                 Traceback (most recent call last)",
      "Cell \u001b[1;32mIn[127], line 3\u001b[0m\n\u001b[0;32m      1\u001b[0m \u001b[38;5;66;03m# list > DataFrame\u001b[39;00m\n\u001b[0;32m      2\u001b[0m data \u001b[38;5;241m=\u001b[39m [[\u001b[38;5;124m'\u001b[39m\u001b[38;5;124ma\u001b[39m\u001b[38;5;124m'\u001b[39m,\u001b[38;5;241m10\u001b[39m],[\u001b[38;5;124m'\u001b[39m\u001b[38;5;124mb\u001b[39m\u001b[38;5;124m'\u001b[39m,\u001b[38;5;241m20\u001b[39m],[\u001b[38;5;124m'\u001b[39m\u001b[38;5;124mc\u001b[39m\u001b[38;5;124m'\u001b[39m,\u001b[38;5;241m30\u001b[39m]]\n\u001b[1;32m----> 3\u001b[0m df \u001b[38;5;241m=\u001b[39m pd\u001b[38;5;241m.\u001b[39mDataFrame(data, columns\u001b[38;5;241m=\u001b[39m[\u001b[38;5;124m'\u001b[39m\u001b[38;5;124mname\u001b[39m\u001b[38;5;124m'\u001b[39m, \u001b[38;5;124m'\u001b[39m\u001b[38;5;124mage\u001b[39m\u001b[38;5;124m'\u001b[39m])\n\u001b[0;32m      4\u001b[0m \u001b[38;5;28mprint\u001b[39m(df)\n",
      "\u001b[1;31mNameError\u001b[0m: name 'pd' is not defined"
     ]
    }
   ],
   "source": [
    "# list > DataFrame\n",
    "data = [['a',10],['b',20],['c',30]]\n",
    "df = pd.DataFrame(data, columns=['name', 'age'])\n",
    "print(df)"
   ]
  },
  {
   "cell_type": "code",
   "execution_count": 128,
   "id": "c84bce28-51ec-4dfb-abe6-39803c33d0b0",
   "metadata": {},
   "outputs": [
    {
     "ename": "NameError",
     "evalue": "name 'pd' is not defined",
     "output_type": "error",
     "traceback": [
      "\u001b[1;31m---------------------------------------------------------------------------\u001b[0m",
      "\u001b[1;31mNameError\u001b[0m                                 Traceback (most recent call last)",
      "Cell \u001b[1;32mIn[128], line 3\u001b[0m\n\u001b[0;32m      1\u001b[0m \u001b[38;5;66;03m# dictionary > DataFrame\u001b[39;00m\n\u001b[0;32m      2\u001b[0m data \u001b[38;5;241m=\u001b[39m {\u001b[38;5;124m'\u001b[39m\u001b[38;5;124mname\u001b[39m\u001b[38;5;124m'\u001b[39m:[\u001b[38;5;124m'\u001b[39m\u001b[38;5;124ma\u001b[39m\u001b[38;5;124m'\u001b[39m,\u001b[38;5;124m'\u001b[39m\u001b[38;5;124mb\u001b[39m\u001b[38;5;124m'\u001b[39m,\u001b[38;5;124m'\u001b[39m\u001b[38;5;124mc\u001b[39m\u001b[38;5;124m'\u001b[39m],\u001b[38;5;124m'\u001b[39m\u001b[38;5;124mage\u001b[39m\u001b[38;5;124m'\u001b[39m:[\u001b[38;5;241m10\u001b[39m,\u001b[38;5;241m20\u001b[39m,\u001b[38;5;241m30\u001b[39m]}\n\u001b[1;32m----> 3\u001b[0m df \u001b[38;5;241m=\u001b[39m pd\u001b[38;5;241m.\u001b[39mDataFrame(data)\n\u001b[0;32m      4\u001b[0m \u001b[38;5;28mprint\u001b[39m(df)\n",
      "\u001b[1;31mNameError\u001b[0m: name 'pd' is not defined"
     ]
    }
   ],
   "source": [
    "# dictionary > DataFrame\n",
    "data = {'name':['a','b','c'],'age':[10,20,30]}\n",
    "df = pd.DataFrame(data)\n",
    "print(df)"
   ]
  },
  {
   "cell_type": "code",
   "execution_count": null,
   "id": "9df2c967-3d51-4039-a460-b191c813c719",
   "metadata": {},
   "outputs": [],
   "source": []
  },
  {
   "cell_type": "code",
   "execution_count": 31,
   "id": "55d7c828-151b-4fef-8d90-5ba5984e4818",
   "metadata": {},
   "outputs": [
    {
     "name": "stdout",
     "output_type": "stream",
     "text": [
      "1\n"
     ]
    }
   ],
   "source": [
    "a = 1\n",
    "\n",
    "print(a) "
   ]
  },
  {
   "cell_type": "code",
   "execution_count": 32,
   "id": "0d8bf6ff-e1de-46ca-b959-df2574f53575",
   "metadata": {},
   "outputs": [
    {
     "name": "stdout",
     "output_type": "stream",
     "text": [
      "10\n"
     ]
    }
   ],
   "source": [
    "a = 1\n",
    "a = 10\n",
    "print(a) "
   ]
  },
  {
   "cell_type": "code",
   "execution_count": 33,
   "id": "4e7e3d00-8b8c-419a-a408-08968e1d56c8",
   "metadata": {},
   "outputs": [
    {
     "name": "stdout",
     "output_type": "stream",
     "text": [
      "2 1\n"
     ]
    }
   ],
   "source": [
    "a = 1\n",
    "b = a\n",
    "a = 2\n",
    "print(a,b)"
   ]
  },
  {
   "cell_type": "code",
   "execution_count": 34,
   "id": "593f597f-12e3-4853-a53c-baf2c43b1194",
   "metadata": {},
   "outputs": [],
   "source": [
    "studentID = 2013016032\n",
    "# 이름을 나타내는 변수\n",
    "student_name = \"JeongSoo Na\" "
   ]
  },
  {
   "cell_type": "code",
   "execution_count": 35,
   "id": "eb745f20-a0cb-4817-81c2-1a0b1bf6b3cc",
   "metadata": {},
   "outputs": [],
   "source": [
    "a=1"
   ]
  },
  {
   "cell_type": "code",
   "execution_count": 36,
   "id": "a3c3637f-e951-4bce-a92d-6cf3d2a186ee",
   "metadata": {},
   "outputs": [],
   "source": [
    "b=1.2\n",
    "c=\"Python\"\n",
    "d=True\n",
    "e=None"
   ]
  },
  {
   "cell_type": "code",
   "execution_count": 37,
   "id": "70fcfb55-7472-4985-b425-650f8e6889f1",
   "metadata": {},
   "outputs": [
    {
     "name": "stdout",
     "output_type": "stream",
     "text": [
      "a의 타입은 :  <class 'int'>\n",
      "b의 타입은 :  <class 'float'>\n",
      "c의 타입은 :  <class 'str'>\n",
      "d의 타입은 :  <class 'bool'>\n",
      "e의 타입은 :  <class 'NoneType'>\n"
     ]
    }
   ],
   "source": [
    "print(\"a의 타입은 : \",type(a))\n",
    "print(\"b의 타입은 : \",type(b))\n",
    "print(\"c의 타입은 : \",type(c))\n",
    "print(\"d의 타입은 : \",type(d))\n",
    "print(\"e의 타입은 : \",type(e))"
   ]
  },
  {
   "cell_type": "code",
   "execution_count": 38,
   "id": "bda2b370-9dc5-46eb-8fe3-c9c02d2300de",
   "metadata": {},
   "outputs": [],
   "source": [
    "a = 1 # 숫자형\n",
    "b = \"1\" # 문자형\n",
    "\n",
    "c = str(a) # 숫자 > 문자\n",
    "d = int(b) # 문자 > 숫자 "
   ]
  },
  {
   "cell_type": "code",
   "execution_count": 40,
   "id": "4fd32369-d9be-4c7a-8abe-ed2c14ea900e",
   "metadata": {},
   "outputs": [],
   "source": [
    "a = [1,2,3,4,5] "
   ]
  },
  {
   "cell_type": "code",
   "execution_count": 41,
   "id": "67809a3a-055c-4b89-97b3-87ab33a17b88",
   "metadata": {},
   "outputs": [],
   "source": [
    "a = [1,1.2,\"Hello\",True, None]"
   ]
  },
  {
   "cell_type": "code",
   "execution_count": 42,
   "id": "40c5f4ca-161d-4b02-914d-6e24b6595b61",
   "metadata": {},
   "outputs": [
    {
     "data": {
      "text/plain": [
       "1"
      ]
     },
     "execution_count": 42,
     "metadata": {},
     "output_type": "execute_result"
    }
   ],
   "source": [
    "a[0] "
   ]
  },
  {
   "cell_type": "code",
   "execution_count": 43,
   "id": "d254815e-26de-4c06-9617-45f72d65898c",
   "metadata": {},
   "outputs": [
    {
     "data": {
      "text/plain": [
       "'Hello'"
      ]
     },
     "execution_count": 43,
     "metadata": {},
     "output_type": "execute_result"
    }
   ],
   "source": [
    "a[2]"
   ]
  },
  {
   "cell_type": "code",
   "execution_count": 44,
   "id": "451ad003-a326-4685-a2f4-34e24a94399d",
   "metadata": {},
   "outputs": [
    {
     "data": {
      "text/plain": [
       "True"
      ]
     },
     "execution_count": 44,
     "metadata": {},
     "output_type": "execute_result"
    }
   ],
   "source": [
    "a[-2]"
   ]
  },
  {
   "cell_type": "code",
   "execution_count": 46,
   "id": "6fe3b31c-8953-4d02-a93f-9f49c217165a",
   "metadata": {},
   "outputs": [
    {
     "data": {
      "text/plain": [
       "1.2"
      ]
     },
     "execution_count": 46,
     "metadata": {},
     "output_type": "execute_result"
    }
   ],
   "source": [
    "a[1] "
   ]
  },
  {
   "cell_type": "code",
   "execution_count": 48,
   "id": "d25159fd-6ee6-45c4-aa28-c209a5801646",
   "metadata": {},
   "outputs": [],
   "source": [
    "a[4]=7"
   ]
  },
  {
   "cell_type": "code",
   "execution_count": 49,
   "id": "edf55233-e312-4d99-a227-bddb6383f773",
   "metadata": {},
   "outputs": [
    {
     "data": {
      "text/plain": [
       "[1, 1.2, 'Hello', True, 7]"
      ]
     },
     "execution_count": 49,
     "metadata": {},
     "output_type": "execute_result"
    }
   ],
   "source": [
    "a "
   ]
  },
  {
   "cell_type": "code",
   "execution_count": 50,
   "id": "5a1f21bb-682f-476e-963f-0e1d7cdcd5fd",
   "metadata": {},
   "outputs": [
    {
     "data": {
      "text/plain": [
       "[1.2, 'Hello']"
      ]
     },
     "execution_count": 50,
     "metadata": {},
     "output_type": "execute_result"
    }
   ],
   "source": [
    "a[1:3] "
   ]
  },
  {
   "cell_type": "code",
   "execution_count": 51,
   "id": "2a4ea3ca-d8e8-42e3-bfd7-0943c94e3528",
   "metadata": {},
   "outputs": [],
   "source": [
    "students = [[1,\"짱구\"],[2,\"철수\"],[3,\"맹구\"],[4,\"유리\"],[5,\"훈이\"]]"
   ]
  },
  {
   "cell_type": "code",
   "execution_count": 52,
   "id": "a1662322-6d2f-4a9b-8822-b5b66dce7df7",
   "metadata": {},
   "outputs": [
    {
     "name": "stdout",
     "output_type": "stream",
     "text": [
      "[1, '짱구']\n",
      "[2, '철수']\n",
      "[5, '훈이']\n",
      "1\n",
      "짱구\n",
      "맹구\n"
     ]
    }
   ],
   "source": [
    "print(students[0])\n",
    "print(students[1])\n",
    "print(students[-1])\n",
    "\n",
    "print(students[0][0])\n",
    "print(students[0][1])\n",
    "print(students[2][1])"
   ]
  },
  {
   "cell_type": "code",
   "execution_count": 56,
   "id": "9b639b7f-779d-4c90-8fe4-c6f321e64c25",
   "metadata": {},
   "outputs": [
    {
     "name": "stdout",
     "output_type": "stream",
     "text": [
      "[[1, '짱구'], [2, '철수'], [4, '유리'], [5, '훈이']]\n"
     ]
    }
   ],
   "source": [
    "del students[2] \n",
    "print(students) "
   ]
  },
  {
   "cell_type": "code",
   "execution_count": null,
   "id": "30e0493d-14e5-47be-b45e-c4db07281cb3",
   "metadata": {},
   "outputs": [],
   "source": [
    "a = (1,2,3,4)\n",
    "a[1] "
   ]
  },
  {
   "cell_type": "code",
   "execution_count": 57,
   "id": "ef303af4-5d52-4334-aae1-ff3811ad7480",
   "metadata": {},
   "outputs": [],
   "source": [
    "del a[2]  "
   ]
  },
  {
   "cell_type": "code",
   "execution_count": 58,
   "id": "a2a1130b-698d-4c53-8212-320138221a18",
   "metadata": {},
   "outputs": [
    {
     "data": {
      "text/plain": [
       "{1, 2, 3, 4, 5}"
      ]
     },
     "execution_count": 58,
     "metadata": {},
     "output_type": "execute_result"
    }
   ],
   "source": [
    "a = {1,2,4,5,1,3,2,4,5}\n",
    "a"
   ]
  },
  {
   "cell_type": "code",
   "execution_count": 60,
   "id": "39fe779b-9c73-4583-a454-ffc4aac33732",
   "metadata": {},
   "outputs": [],
   "source": [
    "students = {\\\n",
    "    \"id\" : [1,2,3],\\\n",
    "    \"name\" : [\"짱수\",\"철수\",\"유리\"],\\\n",
    "    \"favorite\" : [\"액션가면\", \"모에피\", \"토끼\"]\\\n",
    "    }"
   ]
  },
  {
   "cell_type": "code",
   "execution_count": 110,
   "id": "56c8cd98-f9e6-4d00-8237-1012d3417e02",
   "metadata": {},
   "outputs": [
    {
     "data": {
      "text/plain": [
       "{'name': 'BS', 'age': 35, 'sex': 'female'}"
      ]
     },
     "execution_count": 110,
     "metadata": {},
     "output_type": "execute_result"
    }
   ],
   "source": [
    "a={\"name\":\"BS\",\"age\":35,\"sex\":\"female\"}\n",
    "a"
   ]
  },
  {
   "cell_type": "code",
   "execution_count": 65,
   "id": "18de9e8c-52f3-4aff-aa3c-5229c72d1761",
   "metadata": {},
   "outputs": [
    {
     "data": {
      "text/plain": [
       "2"
      ]
     },
     "execution_count": 65,
     "metadata": {},
     "output_type": "execute_result"
    }
   ],
   "source": [
    "1+1"
   ]
  },
  {
   "cell_type": "code",
   "execution_count": 66,
   "id": "c10b4b83-e697-4ea7-8c4a-d10018f25a53",
   "metadata": {},
   "outputs": [
    {
     "data": {
      "text/plain": [
       "2"
      ]
     },
     "execution_count": 66,
     "metadata": {},
     "output_type": "execute_result"
    }
   ],
   "source": [
    "1*2"
   ]
  },
  {
   "cell_type": "code",
   "execution_count": 67,
   "id": "21aebed3-465d-4b35-a763-ca7b739fa961",
   "metadata": {},
   "outputs": [
    {
     "data": {
      "text/plain": [
       "0.5"
      ]
     },
     "execution_count": 67,
     "metadata": {},
     "output_type": "execute_result"
    }
   ],
   "source": [
    "1/2 "
   ]
  },
  {
   "cell_type": "code",
   "execution_count": 68,
   "id": "d08b8d5c-cf0d-4703-bd2f-4aee76990ad5",
   "metadata": {},
   "outputs": [
    {
     "data": {
      "text/plain": [
       "3"
      ]
     },
     "execution_count": 68,
     "metadata": {},
     "output_type": "execute_result"
    }
   ],
   "source": [
    "x=1\n",
    "y=2\n",
    "x+y"
   ]
  },
  {
   "cell_type": "code",
   "execution_count": 69,
   "id": "2ec95c0d-c6e0-4e21-8f24-d2d22e373228",
   "metadata": {},
   "outputs": [
    {
     "data": {
      "text/plain": [
       "0.6"
      ]
     },
     "execution_count": 69,
     "metadata": {},
     "output_type": "execute_result"
    }
   ],
   "source": [
    "3/5 "
   ]
  },
  {
   "cell_type": "code",
   "execution_count": 70,
   "id": "9cf04d64-f17a-4a3d-bc85-e8a6ded5bdca",
   "metadata": {},
   "outputs": [
    {
     "data": {
      "text/plain": [
       "3"
      ]
     },
     "execution_count": 70,
     "metadata": {},
     "output_type": "execute_result"
    }
   ],
   "source": [
    "3%5"
   ]
  },
  {
   "cell_type": "code",
   "execution_count": 71,
   "id": "3716a924-0b8f-456f-a34c-4160eaf4881f",
   "metadata": {},
   "outputs": [
    {
     "data": {
      "text/plain": [
       "0"
      ]
     },
     "execution_count": 71,
     "metadata": {},
     "output_type": "execute_result"
    }
   ],
   "source": [
    "3//5"
   ]
  },
  {
   "cell_type": "code",
   "execution_count": 72,
   "id": "79a9f1bd-c006-4bcf-93b2-9afcbcb74a4f",
   "metadata": {},
   "outputs": [
    {
     "data": {
      "text/plain": [
       "1"
      ]
     },
     "execution_count": 72,
     "metadata": {},
     "output_type": "execute_result"
    }
   ],
   "source": [
    "x**y"
   ]
  },
  {
   "cell_type": "code",
   "execution_count": 73,
   "id": "cbefb713-a0f0-4272-ad34-8caa4d0dadb8",
   "metadata": {},
   "outputs": [
    {
     "data": {
      "text/plain": [
       "'ab'"
      ]
     },
     "execution_count": 73,
     "metadata": {},
     "output_type": "execute_result"
    }
   ],
   "source": [
    "\"a\"+\"b\""
   ]
  },
  {
   "cell_type": "code",
   "execution_count": 74,
   "id": "e2a77f49-213c-472f-a67a-75b00b242059",
   "metadata": {},
   "outputs": [
    {
     "data": {
      "text/plain": [
       "'aaa'"
      ]
     },
     "execution_count": 74,
     "metadata": {},
     "output_type": "execute_result"
    }
   ],
   "source": [
    "\"a\"*3"
   ]
  },
  {
   "cell_type": "code",
   "execution_count": 75,
   "id": "acec8c48-b3a4-4370-b0f8-ce14cfac7785",
   "metadata": {},
   "outputs": [
    {
     "data": {
      "text/plain": [
       "{1, 2, 3, 4, 5}"
      ]
     },
     "execution_count": 75,
     "metadata": {},
     "output_type": "execute_result"
    }
   ],
   "source": [
    "a"
   ]
  },
  {
   "cell_type": "code",
   "execution_count": 76,
   "id": "93f3570e-e928-486e-a444-88eab9697b4a",
   "metadata": {},
   "outputs": [],
   "source": [
    "a=0"
   ]
  },
  {
   "cell_type": "code",
   "execution_count": 79,
   "id": "4e804da5-cc42-496f-b2f9-c5ca7a6da016",
   "metadata": {},
   "outputs": [
    {
     "data": {
      "text/plain": [
       "1"
      ]
     },
     "execution_count": 79,
     "metadata": {},
     "output_type": "execute_result"
    }
   ],
   "source": [
    "a+1 "
   ]
  },
  {
   "cell_type": "code",
   "execution_count": 84,
   "id": "80e2c1cf-d888-44fa-bab6-d7382f1dde2d",
   "metadata": {},
   "outputs": [],
   "source": [
    "a+=1"
   ]
  },
  {
   "cell_type": "code",
   "execution_count": 85,
   "id": "8b271f40-bcd2-4260-8151-b0ba1a204e2b",
   "metadata": {},
   "outputs": [
    {
     "data": {
      "text/plain": [
       "2"
      ]
     },
     "execution_count": 85,
     "metadata": {},
     "output_type": "execute_result"
    }
   ],
   "source": [
    "a"
   ]
  },
  {
   "cell_type": "code",
   "execution_count": 86,
   "id": "a2d7ca83-33e1-43c4-97e5-fc4d05ef5fb4",
   "metadata": {},
   "outputs": [
    {
     "data": {
      "text/plain": [
       "2"
      ]
     },
     "execution_count": 86,
     "metadata": {},
     "output_type": "execute_result"
    }
   ],
   "source": [
    "a"
   ]
  },
  {
   "cell_type": "code",
   "execution_count": 87,
   "id": "51c0b089-40f3-4dad-bac4-508a4c62e988",
   "metadata": {},
   "outputs": [
    {
     "name": "stdout",
     "output_type": "stream",
     "text": [
      "a는 양수입니다.\n"
     ]
    }
   ],
   "source": [
    "a-1\n",
    "if a>0:\n",
    "    print(\"a는 양수입니다.\") "
   ]
  },
  {
   "cell_type": "code",
   "execution_count": 88,
   "id": "9c1ad820-9262-4e2e-98ed-9faf8dd0a94d",
   "metadata": {},
   "outputs": [],
   "source": [
    "a-1\n",
    "if a<0:\n",
    "    print(\"a는 음수입니다.\") "
   ]
  },
  {
   "cell_type": "code",
   "execution_count": 89,
   "id": "e4fad0c4-4f78-4841-b82c-09dc2596c117",
   "metadata": {},
   "outputs": [
    {
     "data": {
      "text/plain": [
       "False"
      ]
     },
     "execution_count": 89,
     "metadata": {},
     "output_type": "execute_result"
    }
   ],
   "source": [
    "a <0"
   ]
  },
  {
   "cell_type": "code",
   "execution_count": 93,
   "id": "a4cbd396-c151-4290-a326-4cdc3cd8877c",
   "metadata": {},
   "outputs": [
    {
     "name": "stdout",
     "output_type": "stream",
     "text": [
      "a는 양수\n"
     ]
    }
   ],
   "source": [
    "a=1 \n",
    "if a>0:\n",
    "    print(\"a는 양수\")\n",
    "elif a<0:\n",
    "    print(\"a는 음수\")\n",
    "else:\n",
    "    print(\"a는 0\")"
   ]
  },
  {
   "cell_type": "code",
   "execution_count": 98,
   "id": "cbd07178-2480-4364-9890-6fd4d6bede01",
   "metadata": {},
   "outputs": [
    {
     "name": "stdout",
     "output_type": "stream",
     "text": [
      "a는 0\n"
     ]
    }
   ],
   "source": [
    "a=0 \n",
    "if a>0:\n",
    "    print(\"a는 양수\")\n",
    "elif a<0:\n",
    "    print(\"a는 음수\")\n",
    "else:\n",
    "    print(\"a는 0\")"
   ]
  },
  {
   "cell_type": "code",
   "execution_count": 105,
   "id": "7c4c1f8a-b995-4990-9a8a-2a5813de682d",
   "metadata": {},
   "outputs": [
    {
     "name": "stdout",
     "output_type": "stream",
     "text": [
      "a는 10이고 b는 20이다.\n"
     ]
    }
   ],
   "source": [
    "a=10\n",
    "b=20\n",
    "if a==10 and b==20:\n",
    "    print(\"a는 10이고 b는 20이다.\")"
   ]
  },
  {
   "cell_type": "code",
   "execution_count": 106,
   "id": "65ab05be-344c-45ab-a53e-033726aa34c7",
   "metadata": {},
   "outputs": [],
   "source": [
    "a=10\n",
    "b=10\n",
    "if a==10 and b==20:\n",
    "    print(\"a는 10이고 b는 20이다.\")"
   ]
  },
  {
   "cell_type": "code",
   "execution_count": 107,
   "id": "2d397a05-2b15-46e2-9109-ce3e0cf7cf71",
   "metadata": {},
   "outputs": [
    {
     "name": "stdout",
     "output_type": "stream",
     "text": [
      "a는 10이고 b는 20이다.\n"
     ]
    }
   ],
   "source": [
    "a=10\n",
    "b=10\n",
    "if a==10 or b==20:\n",
    "    print(\"a는 10이고 b는 20이다.\")"
   ]
  },
  {
   "cell_type": "code",
   "execution_count": 96,
   "id": "3b8919e5-d9a4-4f6c-978e-c7a5931d9985",
   "metadata": {},
   "outputs": [],
   "source": [
    "count = 0\n",
    "\n",
    "while count == 10:\n",
    "    print(count)\n",
    "    count += 1"
   ]
  },
  {
   "cell_type": "code",
   "execution_count": 132,
   "id": "0e704bbc-7114-4ee4-8db9-1806dc6434c4",
   "metadata": {},
   "outputs": [
    {
     "name": "stdout",
     "output_type": "stream",
     "text": [
      "0\n",
      "1\n",
      "2\n",
      "3\n",
      "4\n",
      "5\n",
      "6\n",
      "7\n",
      "8\n",
      "9\n"
     ]
    }
   ],
   "source": [
    "cnt=0\n",
    "\n",
    "while True:\n",
    "    print(cnt)\n",
    "    cnt+=1\n",
    "    if cnt==10:\n",
    "         break"
   ]
  },
  {
   "cell_type": "code",
   "execution_count": 133,
   "id": "96ff6f66-d013-490d-a7ba-8a3003332db7",
   "metadata": {},
   "outputs": [
    {
     "name": "stdout",
     "output_type": "stream",
     "text": [
      "0\n",
      "1\n",
      "2\n",
      "3\n",
      "4\n",
      "5\n",
      "6\n",
      "7\n",
      "8\n",
      "9\n"
     ]
    }
   ],
   "source": [
    "for i in range(0,10):\n",
    "    print(i)"
   ]
  },
  {
   "cell_type": "code",
   "execution_count": 134,
   "id": "c876cf8d-2e2d-4f65-89e2-e9f926b03205",
   "metadata": {},
   "outputs": [
    {
     "name": "stdout",
     "output_type": "stream",
     "text": [
      "1\n",
      "2\n",
      "3\n",
      "4\n",
      "5\n"
     ]
    }
   ],
   "source": [
    "for i in [1,2,3,4,5]:\n",
    "    print(i)"
   ]
  },
  {
   "cell_type": "code",
   "execution_count": 141,
   "id": "708e501e-91d6-4109-b804-b8693236b543",
   "metadata": {},
   "outputs": [
    {
     "name": "stdout",
     "output_type": "stream",
     "text": [
      "보선\n",
      "세영\n",
      "주한\n",
      "지원\n"
     ]
    }
   ],
   "source": [
    "for i in[\"보선\",\"세영\",\"주한\",\"지원\"]:\n",
    "    print(i)"
   ]
  },
  {
   "cell_type": "code",
   "execution_count": 135,
   "id": "ba9f3fee-f4bb-424f-84ba-3efb4d87f7eb",
   "metadata": {},
   "outputs": [
    {
     "name": "stdout",
     "output_type": "stream",
     "text": [
      "짱구\n",
      "철수\n",
      "유리\n",
      "맹구\n",
      "훈이\n"
     ]
    }
   ],
   "source": [
    "for i in [\"짱구\",\"철수\",\"유리\",\"맹구\",\"훈이\"]:\n",
    "    print(i)"
   ]
  },
  {
   "cell_type": "code",
   "execution_count": 145,
   "id": "8c337772-b9c1-4dd9-9c48-4cc65629795d",
   "metadata": {},
   "outputs": [
    {
     "name": "stdout",
     "output_type": "stream",
     "text": [
      "1\n",
      "!!\n",
      "2\n",
      "!!\n",
      "3\n",
      "!!\n",
      "4\n",
      "!!\n",
      "5\n",
      "!!\n",
      "%%\n"
     ]
    }
   ],
   "source": [
    "for a in [1,2,3,4,5]:\n",
    "    print(a)\n",
    "    print(\"!!\")\n",
    "print(\"%%\")    "
   ]
  },
  {
   "cell_type": "code",
   "execution_count": 146,
   "id": "89ecadb0-e77e-434f-8d3d-cbb27a795866",
   "metadata": {},
   "outputs": [
    {
     "name": "stdout",
     "output_type": "stream",
     "text": [
      "1\n",
      "2\n",
      "4\n",
      "5\n"
     ]
    }
   ],
   "source": [
    "for i in [1,2,3,4,5]:\n",
    "    if i==3:\n",
    "        continue\n",
    "    print(i)"
   ]
  },
  {
   "cell_type": "code",
   "execution_count": 147,
   "id": "9048857f-2fe6-462b-ac92-54312868d9dd",
   "metadata": {},
   "outputs": [
    {
     "name": "stdout",
     "output_type": "stream",
     "text": [
      "1\n",
      "2\n"
     ]
    }
   ],
   "source": [
    "for i in [1,2,3,4,5]:\n",
    "    if i==3:\n",
    "        break\n",
    "    print(i)"
   ]
  },
  {
   "cell_type": "code",
   "execution_count": 148,
   "id": "fc364f06-f178-49e3-955f-5f7980ab7353",
   "metadata": {},
   "outputs": [
    {
     "name": "stdout",
     "output_type": "stream",
     "text": [
      "i :  0\n",
      "j :  1\n",
      "j :  2\n",
      "j :  3\n",
      "j :  4\n",
      "j :  5\n",
      "i :  1\n",
      "j :  1\n",
      "j :  2\n",
      "j :  3\n",
      "j :  4\n",
      "j :  5\n",
      "i :  2\n",
      "j :  1\n",
      "j :  2\n",
      "j :  3\n",
      "j :  4\n",
      "j :  5\n",
      "i :  3\n",
      "j :  1\n",
      "j :  2\n",
      "j :  3\n",
      "j :  4\n",
      "j :  5\n",
      "i :  4\n",
      "j :  1\n",
      "j :  2\n",
      "j :  3\n",
      "j :  4\n",
      "j :  5\n",
      "i :  5\n",
      "j :  1\n",
      "j :  2\n",
      "j :  3\n",
      "j :  4\n",
      "j :  5\n",
      "i :  6\n",
      "j :  1\n",
      "j :  2\n",
      "j :  3\n",
      "j :  4\n",
      "j :  5\n",
      "i :  7\n",
      "j :  1\n",
      "j :  2\n",
      "j :  3\n",
      "j :  4\n",
      "j :  5\n",
      "i :  8\n",
      "j :  1\n",
      "j :  2\n",
      "j :  3\n",
      "j :  4\n",
      "j :  5\n",
      "i :  9\n",
      "j :  1\n",
      "j :  2\n",
      "j :  3\n",
      "j :  4\n",
      "j :  5\n"
     ]
    }
   ],
   "source": [
    "for i in range(0,10):\n",
    "    print(\"i : \" ,i)\n",
    "    for j in [1,2,3,4,5]:\n",
    "        print(\"j : \",j)"
   ]
  },
  {
   "cell_type": "code",
   "execution_count": 149,
   "id": "4c470d15-a94b-43b3-9d99-fd2902791edc",
   "metadata": {},
   "outputs": [
    {
     "name": "stdout",
     "output_type": "stream",
     "text": [
      "pen pineapple apple pen\n",
      "penpineappleapplepen\n",
      "pen pineapple apple pen\n",
      "penpineappleapplepen\n",
      "pen\n",
      "pineapple\n",
      "apple\n",
      "pen\n",
      "pen pineapple apple pen pen\n",
      "pineapple\n",
      "apple\n",
      "pen\n"
     ]
    }
   ],
   "source": [
    "print(\"pen pineapple apple pen\")\n",
    "print(\"pen\"\"pineapple\"\"apple\"\"pen\")\n",
    "print(\"pen\",\"pineapple\",\"apple\",\"pen\")\n",
    "print(\"pen\"+\"pineapple\"+\"apple\"+\"pen\")\n",
    "\n",
    "print(\"pen\")\n",
    "print(\"pineapple\")\n",
    "print(\"apple\")\n",
    "print(\"pen\")\n",
    "\n",
    "print(\"pen\", end=' ')\n",
    "print(\"pineapple\", end=' ')\n",
    "print(\"apple\", end=' ')\n",
    "print(\"pen\", end=' ')\n",
    "\n",
    "print(\"pen\", end='\\n')\n",
    "print(\"pineapple\", end='\\n')\n",
    "print(\"apple\", end='\\n')\n",
    "print(\"pen\", end='\\n')"
   ]
  },
  {
   "cell_type": "code",
   "execution_count": 150,
   "id": "df462045-1e64-45be-8915-3b1829ab431d",
   "metadata": {},
   "outputs": [
    {
     "data": {
      "text/plain": [
       "2"
      ]
     },
     "execution_count": 150,
     "metadata": {},
     "output_type": "execute_result"
    }
   ],
   "source": [
    "def plus_one(a):\n",
    "    # 함수 내부 기능\n",
    "    result = a + 1\n",
    "    # 반환값(Output)\n",
    "    return result\n",
    "\n",
    "plus_one(1)"
   ]
  },
  {
   "cell_type": "code",
   "execution_count": 151,
   "id": "2c0bf400-e73d-4ec1-9aea-47413fbe7f74",
   "metadata": {},
   "outputs": [
    {
     "data": {
      "text/plain": [
       "3"
      ]
     },
     "execution_count": 151,
     "metadata": {},
     "output_type": "execute_result"
    }
   ],
   "source": [
    "plus_one(2)"
   ]
  },
  {
   "cell_type": "code",
   "execution_count": 157,
   "id": "4f72d786-a93c-4244-92da-085a21a5ad88",
   "metadata": {},
   "outputs": [
    {
     "data": {
      "text/plain": [
       "63"
      ]
     },
     "execution_count": 157,
     "metadata": {},
     "output_type": "execute_result"
    }
   ],
   "source": [
    "plus_one(62)"
   ]
  },
  {
   "cell_type": "code",
   "execution_count": 165,
   "id": "0c6ddcc8-5572-47e8-9f92-fe6657f283e0",
   "metadata": {},
   "outputs": [
    {
     "name": "stdout",
     "output_type": "stream",
     "text": [
      "Hello\n",
      "1\n"
     ]
    },
    {
     "data": {
      "text/plain": [
       "2"
      ]
     },
     "execution_count": 165,
     "metadata": {},
     "output_type": "execute_result"
    }
   ],
   "source": [
    "a=\"Hello\"\n",
    "def plus_one(a):\n",
    "    result = a + 1\n",
    "    print(a)\n",
    "    return result\n",
    "print(a)\n",
    "plus_one(1)"
   ]
  },
  {
   "cell_type": "code",
   "execution_count": 166,
   "id": "cfa2605d-70e3-4ff7-b911-de9c6582cfc4",
   "metadata": {},
   "outputs": [],
   "source": [
    "def solution(n):\n",
    "    total=0\n",
    "    for i in range(1,n+1):\n",
    "        if i%2==0:\n",
    "            total+=i\n",
    "    return total"
   ]
  },
  {
   "cell_type": "code",
   "execution_count": 172,
   "id": "29b7c2c5-5922-4031-b63e-f77c5e952e54",
   "metadata": {},
   "outputs": [],
   "source": [
    "def solution(n):\n",
    "    answer=0\n",
    "    for i in range(n+1):\n",
    "        if i%2==0:\n",
    "            answer+=1\n",
    "    return answer"
   ]
  },
  {
   "cell_type": "code",
   "execution_count": 174,
   "id": "219fa1e4-cab8-498d-b816-0660dbea3167",
   "metadata": {},
   "outputs": [
    {
     "data": {
      "text/plain": [
       "6"
      ]
     },
     "execution_count": 174,
     "metadata": {},
     "output_type": "execute_result"
    }
   ],
   "source": [
    "solution(10)"
   ]
  },
  {
   "cell_type": "code",
   "execution_count": 154,
   "id": "574e8b74-0991-4a24-a683-087237c44428",
   "metadata": {},
   "outputs": [
    {
     "name": "stdout",
     "output_type": "stream",
     "text": [
      "ah!!!!\n"
     ]
    }
   ],
   "source": [
    "def shouting():\n",
    "    print(\"ah!!!!\")\n",
    "\n",
    "shouting()"
   ]
  },
  {
   "cell_type": "code",
   "execution_count": 155,
   "id": "12b118b6-b916-4ef0-83d0-f51fb1fa9e2b",
   "metadata": {},
   "outputs": [
    {
     "name": "stdout",
     "output_type": "stream",
     "text": [
      "사과의 갯수는 10개 입니다.\n"
     ]
    }
   ],
   "source": [
    "def function_1(a: str, b: int):\n",
    "    print(a + \"의 갯수는 \" + str(b) + \"개 입니다.\")\n",
    "\n",
    "function_1(\"사과\",10)"
   ]
  },
  {
   "cell_type": "code",
   "execution_count": 156,
   "id": "c3ff61cb-a71b-44df-bf55-fc6101072c11",
   "metadata": {},
   "outputs": [],
   "source": [
    "def function_2(a = \"소주\"):\n",
    "    print(a + \"한 병 주문이요\")"
   ]
  },
  {
   "cell_type": "code",
   "execution_count": 177,
   "id": "f08bc16a-e85e-4752-b45f-d4f7dc3b751d",
   "metadata": {},
   "outputs": [],
   "source": [
    "class Count:\n",
    "    def __init__(self):\n",
    "        self.num = 0\n",
    "    def increment(self):\n",
    "        self.num += 1\n",
    "        return self.num\n",
    "cnt = Count()    "
   ]
  },
  {
   "cell_type": "code",
   "execution_count": 178,
   "id": "94d8be99-2a6a-47aa-9ddc-c2206036e511",
   "metadata": {},
   "outputs": [
    {
     "name": "stdout",
     "output_type": "stream",
     "text": [
      "['.git', '.ipynb_checkpoints', '0607파이썬실습', '250621', '250705', 'ARGV', 'class8-Python 클래스&모듈', 'kbs250607.ipynb', 'kbs250614.ipynb', 'README.md', 'test.py', 'Untitled.ipynb', 'Untitled1.ipynb']\n"
     ]
    }
   ],
   "source": [
    "import os\n",
    "\n",
    "file_list = os.listdir()\n",
    "print(file_list)"
   ]
  },
  {
   "cell_type": "code",
   "execution_count": 179,
   "id": "a0dc3fae-539b-48e9-a949-8b4108b85372",
   "metadata": {},
   "outputs": [
    {
     "data": {
      "text/plain": [
       "['.git',\n",
       " '.ipynb_checkpoints',\n",
       " '0607파이썬실습',\n",
       " '250621',\n",
       " '250705',\n",
       " 'ARGV',\n",
       " 'class8-Python 클래스&모듈',\n",
       " 'kbs250607.ipynb',\n",
       " 'kbs250614.ipynb',\n",
       " 'README.md',\n",
       " 'test.py',\n",
       " 'Untitled.ipynb',\n",
       " 'Untitled1.ipynb']"
      ]
     },
     "execution_count": 179,
     "metadata": {},
     "output_type": "execute_result"
    }
   ],
   "source": [
    "os.listdir()"
   ]
  },
  {
   "cell_type": "code",
   "execution_count": 180,
   "id": "53d1dab9-b323-454c-89dc-7bf199a2e020",
   "metadata": {},
   "outputs": [],
   "source": [
    "def hello():\n",
    "    print(\"This is test.py\")\n",
    "\n",
    "# 입력받은 숫자가 짝수인가 홀수인가 확인\n",
    "def function(num):\n",
    "    result = \"\"\n",
    "    if num % 2 == 0:\n",
    "        result = \"짝수\"\n",
    "    elif num % 2 == 1:\n",
    "        result = \"홀수\"\n",
    "    else:\n",
    "        result = \"입력받은 숫자가 정수가 아닙니다.\"\n",
    "    return result"
   ]
  },
  {
   "cell_type": "code",
   "execution_count": 182,
   "id": "5d4dc399-bb23-4b13-be31-c294eb6a0eff",
   "metadata": {},
   "outputs": [
    {
     "data": {
      "text/plain": [
       "'Ths s tst.py'"
      ]
     },
     "execution_count": 182,
     "metadata": {},
     "output_type": "execute_result"
    }
   ],
   "source": [
    "def solution(my_string):\n",
    "    for i in [\"a\",\"e\",\"i\",\"o\",\"u\"]:\n",
    "        my_string = my_string.replace(i,\"\")\n",
    "    return my_string\n",
    "solution(\"This is test.py\")      "
   ]
  },
  {
   "cell_type": "code",
   "execution_count": null,
   "id": "a48f90d2-20ce-4fc7-a4ba-9c3599bba2f7",
   "metadata": {},
   "outputs": [],
   "source": [
    "def solution(n, t):\n",
    "    return n*(2**t)"
   ]
  }
 ],
 "metadata": {
  "kernelspec": {
   "display_name": "Python 3 (ipykernel)",
   "language": "python",
   "name": "python3"
  },
  "language_info": {
   "codemirror_mode": {
    "name": "ipython",
    "version": 3
   },
   "file_extension": ".py",
   "mimetype": "text/x-python",
   "name": "python",
   "nbconvert_exporter": "python",
   "pygments_lexer": "ipython3",
   "version": "3.12.7"
  }
 },
 "nbformat": 4,
 "nbformat_minor": 5
}
